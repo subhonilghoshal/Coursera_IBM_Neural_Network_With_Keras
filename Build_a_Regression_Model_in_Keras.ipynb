{
    "cells": [
        {
            "cell_type": "markdown",
            "metadata": {},
            "source": "# Part A:  Build a Regression Model in Keras, Baseline Model with Un-normalized Data, Epochs = 50, 1 Hidden Layer with 10 Nodes"
        },
        {
            "cell_type": "code",
            "execution_count": 1,
            "metadata": {},
            "outputs": [
                {
                    "data": {
                        "text/html": "<div>\n<style scoped>\n    .dataframe tbody tr th:only-of-type {\n        vertical-align: middle;\n    }\n\n    .dataframe tbody tr th {\n        vertical-align: top;\n    }\n\n    .dataframe thead th {\n        text-align: right;\n    }\n</style>\n<table border=\"1\" class=\"dataframe\">\n  <thead>\n    <tr style=\"text-align: right;\">\n      <th></th>\n      <th>Cement</th>\n      <th>Blast Furnace Slag</th>\n      <th>Fly Ash</th>\n      <th>Water</th>\n      <th>Superplasticizer</th>\n      <th>Coarse Aggregate</th>\n      <th>Fine Aggregate</th>\n      <th>Age</th>\n      <th>Strength</th>\n    </tr>\n  </thead>\n  <tbody>\n    <tr>\n      <th>0</th>\n      <td>540.0</td>\n      <td>0.0</td>\n      <td>0.0</td>\n      <td>162.0</td>\n      <td>2.5</td>\n      <td>1040.0</td>\n      <td>676.0</td>\n      <td>28</td>\n      <td>79.99</td>\n    </tr>\n    <tr>\n      <th>1</th>\n      <td>540.0</td>\n      <td>0.0</td>\n      <td>0.0</td>\n      <td>162.0</td>\n      <td>2.5</td>\n      <td>1055.0</td>\n      <td>676.0</td>\n      <td>28</td>\n      <td>61.89</td>\n    </tr>\n    <tr>\n      <th>2</th>\n      <td>332.5</td>\n      <td>142.5</td>\n      <td>0.0</td>\n      <td>228.0</td>\n      <td>0.0</td>\n      <td>932.0</td>\n      <td>594.0</td>\n      <td>270</td>\n      <td>40.27</td>\n    </tr>\n    <tr>\n      <th>3</th>\n      <td>332.5</td>\n      <td>142.5</td>\n      <td>0.0</td>\n      <td>228.0</td>\n      <td>0.0</td>\n      <td>932.0</td>\n      <td>594.0</td>\n      <td>365</td>\n      <td>41.05</td>\n    </tr>\n    <tr>\n      <th>4</th>\n      <td>198.6</td>\n      <td>132.4</td>\n      <td>0.0</td>\n      <td>192.0</td>\n      <td>0.0</td>\n      <td>978.4</td>\n      <td>825.5</td>\n      <td>360</td>\n      <td>44.30</td>\n    </tr>\n  </tbody>\n</table>\n</div>",
                        "text/plain": "   Cement  Blast Furnace Slag  Fly Ash  Water  Superplasticizer  \\\n0   540.0                 0.0      0.0  162.0               2.5   \n1   540.0                 0.0      0.0  162.0               2.5   \n2   332.5               142.5      0.0  228.0               0.0   \n3   332.5               142.5      0.0  228.0               0.0   \n4   198.6               132.4      0.0  192.0               0.0   \n\n   Coarse Aggregate  Fine Aggregate  Age  Strength  \n0            1040.0           676.0   28     79.99  \n1            1055.0           676.0   28     61.89  \n2             932.0           594.0  270     40.27  \n3             932.0           594.0  365     41.05  \n4             978.4           825.5  360     44.30  "
                    },
                    "execution_count": 1,
                    "metadata": {},
                    "output_type": "execute_result"
                }
            ],
            "source": "# Import the dataset and display a sample\n\nimport pandas as pd\nimport numpy as np\nconcrete_data = pd.read_csv('https://s3-api.us-geo.objectstorage.softlayer.net/cf-courses-data/CognitiveClass/DL0101EN/labs/data/concrete_data.csv')\nconcrete_data.head()"
        },
        {
            "cell_type": "code",
            "execution_count": 2,
            "metadata": {},
            "outputs": [
                {
                    "data": {
                        "text/plain": "(1030, 9)"
                    },
                    "execution_count": 2,
                    "metadata": {},
                    "output_type": "execute_result"
                }
            ],
            "source": "# Check the size of the dataset\n\nconcrete_data.shape"
        },
        {
            "cell_type": "code",
            "execution_count": 3,
            "metadata": {},
            "outputs": [
                {
                    "data": {
                        "text/html": "<div>\n<style scoped>\n    .dataframe tbody tr th:only-of-type {\n        vertical-align: middle;\n    }\n\n    .dataframe tbody tr th {\n        vertical-align: top;\n    }\n\n    .dataframe thead th {\n        text-align: right;\n    }\n</style>\n<table border=\"1\" class=\"dataframe\">\n  <thead>\n    <tr style=\"text-align: right;\">\n      <th></th>\n      <th>Cement</th>\n      <th>Blast Furnace Slag</th>\n      <th>Fly Ash</th>\n      <th>Water</th>\n      <th>Superplasticizer</th>\n      <th>Coarse Aggregate</th>\n      <th>Fine Aggregate</th>\n      <th>Age</th>\n      <th>Strength</th>\n    </tr>\n  </thead>\n  <tbody>\n    <tr>\n      <th>count</th>\n      <td>1030.000000</td>\n      <td>1030.000000</td>\n      <td>1030.000000</td>\n      <td>1030.000000</td>\n      <td>1030.000000</td>\n      <td>1030.000000</td>\n      <td>1030.000000</td>\n      <td>1030.000000</td>\n      <td>1030.000000</td>\n    </tr>\n    <tr>\n      <th>mean</th>\n      <td>281.167864</td>\n      <td>73.895825</td>\n      <td>54.188350</td>\n      <td>181.567282</td>\n      <td>6.204660</td>\n      <td>972.918932</td>\n      <td>773.580485</td>\n      <td>45.662136</td>\n      <td>35.817961</td>\n    </tr>\n    <tr>\n      <th>std</th>\n      <td>104.506364</td>\n      <td>86.279342</td>\n      <td>63.997004</td>\n      <td>21.354219</td>\n      <td>5.973841</td>\n      <td>77.753954</td>\n      <td>80.175980</td>\n      <td>63.169912</td>\n      <td>16.705742</td>\n    </tr>\n    <tr>\n      <th>min</th>\n      <td>102.000000</td>\n      <td>0.000000</td>\n      <td>0.000000</td>\n      <td>121.800000</td>\n      <td>0.000000</td>\n      <td>801.000000</td>\n      <td>594.000000</td>\n      <td>1.000000</td>\n      <td>2.330000</td>\n    </tr>\n    <tr>\n      <th>25%</th>\n      <td>192.375000</td>\n      <td>0.000000</td>\n      <td>0.000000</td>\n      <td>164.900000</td>\n      <td>0.000000</td>\n      <td>932.000000</td>\n      <td>730.950000</td>\n      <td>7.000000</td>\n      <td>23.710000</td>\n    </tr>\n    <tr>\n      <th>50%</th>\n      <td>272.900000</td>\n      <td>22.000000</td>\n      <td>0.000000</td>\n      <td>185.000000</td>\n      <td>6.400000</td>\n      <td>968.000000</td>\n      <td>779.500000</td>\n      <td>28.000000</td>\n      <td>34.445000</td>\n    </tr>\n    <tr>\n      <th>75%</th>\n      <td>350.000000</td>\n      <td>142.950000</td>\n      <td>118.300000</td>\n      <td>192.000000</td>\n      <td>10.200000</td>\n      <td>1029.400000</td>\n      <td>824.000000</td>\n      <td>56.000000</td>\n      <td>46.135000</td>\n    </tr>\n    <tr>\n      <th>max</th>\n      <td>540.000000</td>\n      <td>359.400000</td>\n      <td>200.100000</td>\n      <td>247.000000</td>\n      <td>32.200000</td>\n      <td>1145.000000</td>\n      <td>992.600000</td>\n      <td>365.000000</td>\n      <td>82.600000</td>\n    </tr>\n  </tbody>\n</table>\n</div>",
                        "text/plain": "            Cement  Blast Furnace Slag      Fly Ash        Water  \\\ncount  1030.000000         1030.000000  1030.000000  1030.000000   \nmean    281.167864           73.895825    54.188350   181.567282   \nstd     104.506364           86.279342    63.997004    21.354219   \nmin     102.000000            0.000000     0.000000   121.800000   \n25%     192.375000            0.000000     0.000000   164.900000   \n50%     272.900000           22.000000     0.000000   185.000000   \n75%     350.000000          142.950000   118.300000   192.000000   \nmax     540.000000          359.400000   200.100000   247.000000   \n\n       Superplasticizer  Coarse Aggregate  Fine Aggregate          Age  \\\ncount       1030.000000       1030.000000     1030.000000  1030.000000   \nmean           6.204660        972.918932      773.580485    45.662136   \nstd            5.973841         77.753954       80.175980    63.169912   \nmin            0.000000        801.000000      594.000000     1.000000   \n25%            0.000000        932.000000      730.950000     7.000000   \n50%            6.400000        968.000000      779.500000    28.000000   \n75%           10.200000       1029.400000      824.000000    56.000000   \nmax           32.200000       1145.000000      992.600000   365.000000   \n\n          Strength  \ncount  1030.000000  \nmean     35.817961  \nstd      16.705742  \nmin       2.330000  \n25%      23.710000  \n50%      34.445000  \n75%      46.135000  \nmax      82.600000  "
                    },
                    "execution_count": 3,
                    "metadata": {},
                    "output_type": "execute_result"
                }
            ],
            "source": "# Looks at the stats of  dataset\n\nconcrete_data.describe()"
        },
        {
            "cell_type": "code",
            "execution_count": 4,
            "metadata": {},
            "outputs": [
                {
                    "data": {
                        "text/plain": "Cement                0\nBlast Furnace Slag    0\nFly Ash               0\nWater                 0\nSuperplasticizer      0\nCoarse Aggregate      0\nFine Aggregate        0\nAge                   0\nStrength              0\ndtype: int64"
                    },
                    "execution_count": 4,
                    "metadata": {},
                    "output_type": "execute_result"
                }
            ],
            "source": "# Check for missing values\n\nconcrete_data.isnull().sum()"
        },
        {
            "cell_type": "code",
            "execution_count": 6,
            "metadata": {},
            "outputs": [],
            "source": "# Split the dataset into predictors and target\n\nconcrete_data_columns = concrete_data.columns\n\npredictors = concrete_data[concrete_data_columns[concrete_data_columns != 'Strength']] # all columns except Strength\ntarget = concrete_data['Strength'] # Strength column"
        },
        {
            "cell_type": "code",
            "execution_count": 7,
            "metadata": {},
            "outputs": [
                {
                    "data": {
                        "text/html": "<div>\n<style scoped>\n    .dataframe tbody tr th:only-of-type {\n        vertical-align: middle;\n    }\n\n    .dataframe tbody tr th {\n        vertical-align: top;\n    }\n\n    .dataframe thead th {\n        text-align: right;\n    }\n</style>\n<table border=\"1\" class=\"dataframe\">\n  <thead>\n    <tr style=\"text-align: right;\">\n      <th></th>\n      <th>Cement</th>\n      <th>Blast Furnace Slag</th>\n      <th>Fly Ash</th>\n      <th>Water</th>\n      <th>Superplasticizer</th>\n      <th>Coarse Aggregate</th>\n      <th>Fine Aggregate</th>\n      <th>Age</th>\n    </tr>\n  </thead>\n  <tbody>\n    <tr>\n      <th>0</th>\n      <td>540.0</td>\n      <td>0.0</td>\n      <td>0.0</td>\n      <td>162.0</td>\n      <td>2.5</td>\n      <td>1040.0</td>\n      <td>676.0</td>\n      <td>28</td>\n    </tr>\n    <tr>\n      <th>1</th>\n      <td>540.0</td>\n      <td>0.0</td>\n      <td>0.0</td>\n      <td>162.0</td>\n      <td>2.5</td>\n      <td>1055.0</td>\n      <td>676.0</td>\n      <td>28</td>\n    </tr>\n    <tr>\n      <th>2</th>\n      <td>332.5</td>\n      <td>142.5</td>\n      <td>0.0</td>\n      <td>228.0</td>\n      <td>0.0</td>\n      <td>932.0</td>\n      <td>594.0</td>\n      <td>270</td>\n    </tr>\n    <tr>\n      <th>3</th>\n      <td>332.5</td>\n      <td>142.5</td>\n      <td>0.0</td>\n      <td>228.0</td>\n      <td>0.0</td>\n      <td>932.0</td>\n      <td>594.0</td>\n      <td>365</td>\n    </tr>\n    <tr>\n      <th>4</th>\n      <td>198.6</td>\n      <td>132.4</td>\n      <td>0.0</td>\n      <td>192.0</td>\n      <td>0.0</td>\n      <td>978.4</td>\n      <td>825.5</td>\n      <td>360</td>\n    </tr>\n  </tbody>\n</table>\n</div>",
                        "text/plain": "   Cement  Blast Furnace Slag  Fly Ash  Water  Superplasticizer  \\\n0   540.0                 0.0      0.0  162.0               2.5   \n1   540.0                 0.0      0.0  162.0               2.5   \n2   332.5               142.5      0.0  228.0               0.0   \n3   332.5               142.5      0.0  228.0               0.0   \n4   198.6               132.4      0.0  192.0               0.0   \n\n   Coarse Aggregate  Fine Aggregate  Age  \n0            1040.0           676.0   28  \n1            1055.0           676.0   28  \n2             932.0           594.0  270  \n3             932.0           594.0  365  \n4             978.4           825.5  360  "
                    },
                    "execution_count": 7,
                    "metadata": {},
                    "output_type": "execute_result"
                }
            ],
            "source": "# Quick check of the predictors dataset\n\npredictors.head()"
        },
        {
            "cell_type": "code",
            "execution_count": 8,
            "metadata": {},
            "outputs": [
                {
                    "data": {
                        "text/plain": "0    79.99\n1    61.89\n2    40.27\n3    41.05\n4    44.30\nName: Strength, dtype: float64"
                    },
                    "execution_count": 8,
                    "metadata": {},
                    "output_type": "execute_result"
                }
            ],
            "source": "# Quick check of the target dataset\n\ntarget.head()"
        },
        {
            "cell_type": "code",
            "execution_count": 9,
            "metadata": {},
            "outputs": [
                {
                    "name": "stdout",
                    "output_type": "stream",
                    "text": "8\n"
                }
            ],
            "source": "# Save the number of predictors to n_cols since we will need this number when building our network.\n\nn_cols = predictors.shape[1] # number of predictors\nprint(n_cols)"
        },
        {
            "cell_type": "code",
            "execution_count": null,
            "metadata": {},
            "outputs": [],
            "source": "# define regression model\n\ndef regression_model():\n    # create model\n    model = Sequential()\n    model.add(Dense(10, activation='relu', input_shape=(n_cols,)))\n    model.add(Dense(1))\n    \n    # compile model\n    model.compile(optimizer='adam', loss='mean_squared_error')\n    return model"
        },
        {
            "cell_type": "code",
            "execution_count": 36,
            "metadata": {},
            "outputs": [],
            "source": "# Set up the libraries\nimport keras\nimport numpy\nfrom keras.models import Sequential\nfrom keras.layers import Dense\nfrom sklearn.model_selection import train_test_split\nfrom sklearn.metrics import mean_squared_error\n\n# create a array to hold the mean squared error\nmse = numpy.zeros(shape=(50,1))\n\n# Iterate 50 times with different sets of test and train split data\nfor i in range (1,50):\n\n    # Split the data into 70% train and 30% test\n    predictors_train, predictors_test, target_train, target_test = train_test_split(predictors, target, test_size=0.3, random_state=42)\n    \n    # build the model\n    model = regression_model()\n    \n    # fit the model\n    model.fit(predictors_train, target_train, epochs=50,verbose=0)\n    \n    # predict on the test set\n    prediction = model.predict(np.array(predictors_test))\n    \n    # update the mean squared error\n    mse[i-1]=mean_squared_error(target_test, prediction)  "
        },
        {
            "cell_type": "code",
            "execution_count": 38,
            "metadata": {},
            "outputs": [
                {
                    "name": "stdout",
                    "output_type": "stream",
                    "text": "Mean of Mean Squared Error for 50 runs is: 333.476874216809\nStandard Deviation of Mean Squared Error for 50 runs is: 428.3775773177056\n"
                }
            ],
            "source": "# Calculate mean and standard deviation of Mean Squared Error over 50 runs of the model\nmean_mse_epoch_50_8_10_1=numpy.mean(mse)\nprint(\"Mean of Mean Squared Error for 50 runs is:\", mean_mse_epoch_50_8_10_1)\nstd_mse_epoch_50_8_10_1=numpy.std(mse)\nprint(\"Standard Deviation of Mean Squared Error for 50 runs is:\", std_mse_epoch_50_8_10_1)"
        },
        {
            "cell_type": "markdown",
            "metadata": {},
            "source": "# Part B:  Build a Regression Model in Keras, with Normalized Data, Epochs = 50, 1 Hidden Layer with 10 Nodes"
        },
        {
            "cell_type": "code",
            "execution_count": 39,
            "metadata": {},
            "outputs": [
                {
                    "data": {
                        "text/html": "<div>\n<style scoped>\n    .dataframe tbody tr th:only-of-type {\n        vertical-align: middle;\n    }\n\n    .dataframe tbody tr th {\n        vertical-align: top;\n    }\n\n    .dataframe thead th {\n        text-align: right;\n    }\n</style>\n<table border=\"1\" class=\"dataframe\">\n  <thead>\n    <tr style=\"text-align: right;\">\n      <th></th>\n      <th>Cement</th>\n      <th>Blast Furnace Slag</th>\n      <th>Fly Ash</th>\n      <th>Water</th>\n      <th>Superplasticizer</th>\n      <th>Coarse Aggregate</th>\n      <th>Fine Aggregate</th>\n      <th>Age</th>\n    </tr>\n  </thead>\n  <tbody>\n    <tr>\n      <th>0</th>\n      <td>2.476712</td>\n      <td>-0.856472</td>\n      <td>-0.846733</td>\n      <td>-0.916319</td>\n      <td>-0.620147</td>\n      <td>0.862735</td>\n      <td>-1.217079</td>\n      <td>-0.279597</td>\n    </tr>\n    <tr>\n      <th>1</th>\n      <td>2.476712</td>\n      <td>-0.856472</td>\n      <td>-0.846733</td>\n      <td>-0.916319</td>\n      <td>-0.620147</td>\n      <td>1.055651</td>\n      <td>-1.217079</td>\n      <td>-0.279597</td>\n    </tr>\n    <tr>\n      <th>2</th>\n      <td>0.491187</td>\n      <td>0.795140</td>\n      <td>-0.846733</td>\n      <td>2.174405</td>\n      <td>-1.038638</td>\n      <td>-0.526262</td>\n      <td>-2.239829</td>\n      <td>3.551340</td>\n    </tr>\n    <tr>\n      <th>3</th>\n      <td>0.491187</td>\n      <td>0.795140</td>\n      <td>-0.846733</td>\n      <td>2.174405</td>\n      <td>-1.038638</td>\n      <td>-0.526262</td>\n      <td>-2.239829</td>\n      <td>5.055221</td>\n    </tr>\n    <tr>\n      <th>4</th>\n      <td>-0.790075</td>\n      <td>0.678079</td>\n      <td>-0.846733</td>\n      <td>0.488555</td>\n      <td>-1.038638</td>\n      <td>0.070492</td>\n      <td>0.647569</td>\n      <td>4.976069</td>\n    </tr>\n  </tbody>\n</table>\n</div>",
                        "text/plain": "     Cement  Blast Furnace Slag   Fly Ash     Water  Superplasticizer  \\\n0  2.476712           -0.856472 -0.846733 -0.916319         -0.620147   \n1  2.476712           -0.856472 -0.846733 -0.916319         -0.620147   \n2  0.491187            0.795140 -0.846733  2.174405         -1.038638   \n3  0.491187            0.795140 -0.846733  2.174405         -1.038638   \n4 -0.790075            0.678079 -0.846733  0.488555         -1.038638   \n\n   Coarse Aggregate  Fine Aggregate       Age  \n0          0.862735       -1.217079 -0.279597  \n1          1.055651       -1.217079 -0.279597  \n2         -0.526262       -2.239829  3.551340  \n3         -0.526262       -2.239829  5.055221  \n4          0.070492        0.647569  4.976069  "
                    },
                    "execution_count": 39,
                    "metadata": {},
                    "output_type": "execute_result"
                }
            ],
            "source": "# Repeat part A for normalized predictor data\n# normalize the predictors dataset\npredictors_norm = (predictors - predictors.mean()) / predictors.std()\npredictors_norm.head()"
        },
        {
            "cell_type": "code",
            "execution_count": 45,
            "metadata": {},
            "outputs": [],
            "source": "# Set up the libraries\nimport keras\nimport numpy\nfrom keras.models import Sequential\nfrom keras.layers import Dense\nfrom sklearn.model_selection import train_test_split\nfrom sklearn.metrics import mean_squared_error\n\n# create a array to hold the mean squared error\nmse = numpy.zeros(shape=(50,1))\n\n# Iterate 50 times with different sets of test and train split data\nfor i in range (1,50):\n\n    # Split the normalized data into 70% train and 30% test\n    predictors_norm_train, predictors_norm_test, target_train, target_test = train_test_split(predictors_norm, target, test_size=0.3, random_state=42)\n    \n    # build the model\n    model = regression_model()\n    \n    # fit the model on normalized training sets\n    model.fit(predictors_norm_train, target_train, epochs=50,verbose=0)\n    \n    # predict on the normalized test set\n    prediction = model.predict(np.array(predictors_norm_test))\n    \n    # update the mean squared error\n    mse[i-1]=mean_squared_error(target_test, prediction)  "
        },
        {
            "cell_type": "code",
            "execution_count": 46,
            "metadata": {},
            "outputs": [
                {
                    "name": "stdout",
                    "output_type": "stream",
                    "text": "Mean of Mean Squared Error with normalized predictors for 50 runs is: 307.42916035317756\nStandard Deviation of Mean Squared Error normalized predictors for 50 runs is: 81.2626126854015\n"
                }
            ],
            "source": "# Calculate mean and standard deviation of Mean Squared Error over 50 runs of the model with normalized predictor\nmean_mse_norm_epoch_50_8_10_1=numpy.mean(mse)\nprint(\"Mean of Mean Squared Error with normalized predictors for 50 runs is:\", mean_mse_norm_epoch_50_8_10_1)\nstd_mse_norm_epoch_50_8_10_1=numpy.std(mse)\nprint(\"Standard Deviation of Mean Squared Error normalized predictors for 50 runs is:\", std_mse_norm_epoch_50_8_10_1)"
        },
        {
            "cell_type": "markdown",
            "metadata": {},
            "source": "# Discussion on Mean Squared Error in Step A and Step B\n\nWith unnormalized predictor dataset the following mean and standard deviation of mean squared error was observed:\n    Mean of Mean Squared Error for 50 runs is: 333.476874216809.\n    Standard Deviation of Mean Squared Error for 50 runs is: 428.3775773177056.\n    \n\nWith normalized predictor dataset the following mean and standard deviation of mean squared error was observed:\n    Mean of Mean Squared Error with normalized predictors for 50 runs is: 307.42916035317756.\n    Standard Deviation of Mean Squared Error normalized predictors for 50 runs is: 81.2626126854015.\n    \nWith Normalization in Step B, there is some decrease in Mean of Mean Squared Error.\nWith Normalization  in Step B, there is significant decrease in Standard Deviation of Mean Squared Error."
        },
        {
            "cell_type": "markdown",
            "metadata": {},
            "source": "# Part C:  Build a Regression Model in Keras, with Normalized Data, Epochs = 100, 1 Hidden Layer with 10 Nodes"
        },
        {
            "cell_type": "code",
            "execution_count": 43,
            "metadata": {},
            "outputs": [],
            "source": "# Repeat part B using 100 epochs\n\n# Set up the libraries\nimport keras\nimport numpy\nfrom keras.models import Sequential\nfrom keras.layers import Dense\nfrom sklearn.model_selection import train_test_split\nfrom sklearn.metrics import mean_squared_error\n\n# create a array to hold the mean squared error\nmse = numpy.zeros(shape=(50,1))\n\n# Iterate 50 times with different sets of test and train split data\nfor i in range (1,50):\n\n    # Split the normalized data into 70% train and 30% test\n    predictors_norm_train, predictors_norm_test, target_train, target_test = train_test_split(predictors_norm, target, test_size=0.3, random_state=42)\n    \n    # build the model\n    model = regression_model()\n    \n    # fit the model on normalized training sets\n    model.fit(predictors_norm_train, target_train, epochs=100,verbose=0)\n    \n    # predict on the normalized test set\n    prediction = model.predict(np.array(predictors_norm_test))\n    \n    # update the mean squared error\n    mse[i-1]=mean_squared_error(target_test, prediction)"
        },
        {
            "cell_type": "code",
            "execution_count": 44,
            "metadata": {},
            "outputs": [
                {
                    "name": "stdout",
                    "output_type": "stream",
                    "text": "Mean of Mean Squared Error with normalized predictors and Epoch = 100 for 50 runs is: 155.09285713529664\nStandard Deviation of Mean Squared Error normalized predictors and Epoch = 100 for 50 runs is: 25.194838815728886\n"
                }
            ],
            "source": "# Calculate mean and standard deviation of Mean Squared Error over 50 runs of the model with normalized predictor\nmean_mse_norm_epoch100_8_10_1=numpy.mean(mse)\nprint(\"Mean of Mean Squared Error with normalized predictors and Epoch = 100 for 50 runs is:\", mean_mse_norm_epoch100_8_10_1)\nstd_mse_norm_epoch100_8_10_1=numpy.std(mse)\nprint(\"Standard Deviation of Mean Squared Error normalized predictors and Epoch = 100 for 50 runs is:\", std_mse_norm_epoch100_8_10_1)"
        },
        {
            "cell_type": "markdown",
            "metadata": {},
            "source": "# Discussion on Mean Squared Error in Step B and Step C\n\nWith normalized predictor dataset with Epoch = 50, the following mean and standard deviation of mean squared error was observed:\n    Mean of Mean Squared Error with normalized predictors for 50 runs is: 307.42916035317756.\n    Standard Deviation of Mean Squared Error normalized predictors for 50 runs is: 81.2626126854015.\n\nWith normalized predictor dataset with Epoch = 100, the following mean and standard deviation of mean squared error was observed:\n    Mean of Mean Squared Error with normalized predictors and Epoch = 100 for 50 runs is: 155.09285713529664.\n    Standard Deviation of Mean Squared Error normalized predictors and Epoch = 100 for 50 runs is: 25.194838815728886.\n    \nWith increase in Epochs to 100 in Step C, there is signfificant decrease in Mean of Mean Squared Error.\nWith increase in Epochs to 100 in Step C, there is significant decrease in Standard Deviation of Mean Squared Error."
        },
        {
            "cell_type": "markdown",
            "metadata": {},
            "source": "# Part D:  Build a Regression Model in Keras, with Normalized Data, Epochs = 100, 3 Hidden Layers with 10 Nodes each"
        },
        {
            "cell_type": "code",
            "execution_count": 47,
            "metadata": {},
            "outputs": [],
            "source": "# Repeat part C using 3 hidden layers, each of 10 nodes and ReLU activation function\n\ndef regression_model():\n    # create model\n    model = Sequential()\n    model.add(Dense(10, activation='relu', input_shape=(n_cols,)))\n    model.add(Dense(10, activation='relu'))\n    model.add(Dense(10, activation='relu'))\n    model.add(Dense(1))\n    \n    # compile model\n    model.compile(optimizer='adam', loss='mean_squared_error')\n    return model"
        },
        {
            "cell_type": "code",
            "execution_count": 48,
            "metadata": {},
            "outputs": [],
            "source": "# Set up the libraries\nimport keras\nimport numpy\nfrom keras.models import Sequential\nfrom keras.layers import Dense\nfrom sklearn.model_selection import train_test_split\nfrom sklearn.metrics import mean_squared_error\n\n# create a array to hold the mean squared error\nmse = numpy.zeros(shape=(50,1))\n\n# Iterate 50 times with different sets of test and train split data\nfor i in range (1,50):\n\n    # Split the normalized data into 70% train and 30% test\n    predictors_norm_train, predictors_norm_test, target_train, target_test = train_test_split(predictors_norm, target, test_size=0.3, random_state=42)\n    \n    # build the model\n    model = regression_model()\n    \n    # fit the model on normalized training sets\n    model.fit(predictors_norm_train, target_train, epochs=100,verbose=0)\n    \n    # predict on the normalized test set\n    prediction = model.predict(np.array(predictors_norm_test))\n    \n    # update the mean squared error\n    mse[i-1]=mean_squared_error(target_test, prediction)"
        },
        {
            "cell_type": "code",
            "execution_count": 49,
            "metadata": {},
            "outputs": [
                {
                    "name": "stdout",
                    "output_type": "stream",
                    "text": "Mean of Mean Squared Error with normalized predictors and Epoch = 100, 3 hidden layers with 10 nodes each, for 50 runs is: 83.65620047049073\nStandard Deviation of Mean Squared Error normalized predictors and Epoch = 100, 3 hidden layers with 10 nodes each, for 50 runs is: 24.4891512682964\n"
                }
            ],
            "source": "# Calculate mean and standard deviation of Mean Squared Error over 50 runs of the model with normalized predictor\n# and using 3 hidden layers, each of 10 nodes and ReLU activation function\n\nmean_mse_norm_epoch100_8_10_10_10_1=numpy.mean(mse)\nprint(\"Mean of Mean Squared Error with normalized predictors and Epoch = 100, 3 hidden layers with 10 nodes each, for 50 runs is:\", mean_mse_norm_epoch100_8_10_10_10_1)\nstd__mse_norm_epoch100_8_10_10_10_1=numpy.std(mse)\nprint(\"Standard Deviation of Mean Squared Error normalized predictors and Epoch = 100, 3 hidden layers with 10 nodes each, for 50 runs is:\", std__mse_norm_epoch100_8_10_10_10_1)"
        },
        {
            "cell_type": "markdown",
            "metadata": {},
            "source": "# Discussion on Mean Squared Error in Step C and Step D\n\nWith normalized predictor dataset with Epoch = 100, the following mean and standard deviation of mean squared error was observed:\n    Mean of Mean Squared Error with normalized predictors and Epoch = 100 for 50 runs is: 155.09285713529664.\n    Standard Deviation of Mean Squared Error normalized predictors and Epoch = 100 for 50 runs is: 25.194838815728886.\n\nWith normalized predictor dataset with Epoch = 100, using using 3 hidden layers, each of 10 nodes, the following mean and standard deviation of mean squared error was observed:\n    Mean of Mean Squared Error with normalized predictors and Epoch = 100, 3 hidden layers with 10 nodes each, for 50 runs is: 83.65620047049073.\n    Standard Deviation of Mean Squared Error normalized predictors and Epoch = 100, 3 hidden layers with 10 nodes each, for 50 runs is: 24.4891512682964.\n    \nWith increase number of Hidden Layers to 3 in Step D, there is signfificant decrease in Mean of Mean Squared Error.\nWith increase number of Hidden Layers to 3 in Step D, there is very little decrease in Standard Deviation of Mean Squared Error.\n    "
        }
    ],
    "metadata": {
        "kernelspec": {
            "display_name": "Python 3.6",
            "language": "python",
            "name": "python3"
        },
        "language_info": {
            "codemirror_mode": {
                "name": "ipython",
                "version": 3
            },
            "file_extension": ".py",
            "mimetype": "text/x-python",
            "name": "python",
            "nbconvert_exporter": "python",
            "pygments_lexer": "ipython3",
            "version": "3.6.8"
        }
    },
    "nbformat": 4,
    "nbformat_minor": 1
}